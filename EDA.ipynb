{
 "cells": [
  {
   "cell_type": "code",
   "execution_count": 51,
   "metadata": {},
   "outputs": [],
   "source": [
    "import numpy as np\n",
    "import pandas as pd\n",
    "import matplotlib.pyplot as plt\n",
    "import seaborn as sns\n"
   ]
  },
  {
   "cell_type": "code",
   "execution_count": 52,
   "metadata": {},
   "outputs": [],
   "source": [
    "df = pd.read_csv('sensor_events.csv')\n"
   ]
  },
  {
   "cell_type": "code",
   "execution_count": 53,
   "metadata": {},
   "outputs": [
    {
     "data": {
      "text/html": [
       "<div>\n",
       "<style scoped>\n",
       "    .dataframe tbody tr th:only-of-type {\n",
       "        vertical-align: middle;\n",
       "    }\n",
       "\n",
       "    .dataframe tbody tr th {\n",
       "        vertical-align: top;\n",
       "    }\n",
       "\n",
       "    .dataframe thead th {\n",
       "        text-align: right;\n",
       "    }\n",
       "</style>\n",
       "<table border=\"1\" class=\"dataframe\">\n",
       "  <thead>\n",
       "    <tr style=\"text-align: right;\">\n",
       "      <th></th>\n",
       "      <th>Movement Detected</th>\n",
       "      <th>Object Detected</th>\n",
       "      <th>Open/Closed</th>\n",
       "      <th>Sensor Type</th>\n",
       "      <th>Timestamp</th>\n",
       "      <th>Zone</th>\n",
       "    </tr>\n",
       "  </thead>\n",
       "  <tbody>\n",
       "    <tr>\n",
       "      <th>0</th>\n",
       "      <td>NaN</td>\n",
       "      <td>NaN</td>\n",
       "      <td>Open</td>\n",
       "      <td>Window Sensor</td>\n",
       "      <td>2024-03-18 00:12:00</td>\n",
       "      <td>Lobby</td>\n",
       "    </tr>\n",
       "    <tr>\n",
       "      <th>1</th>\n",
       "      <td>NaN</td>\n",
       "      <td>NaN</td>\n",
       "      <td>Closed</td>\n",
       "      <td>Window Sensor</td>\n",
       "      <td>2024-03-18 00:04:00</td>\n",
       "      <td>Room 1</td>\n",
       "    </tr>\n",
       "    <tr>\n",
       "      <th>2</th>\n",
       "      <td>NaN</td>\n",
       "      <td>NaN</td>\n",
       "      <td>Open</td>\n",
       "      <td>Door Sensor</td>\n",
       "      <td>2024-03-18 00:00:00</td>\n",
       "      <td>Lobby</td>\n",
       "    </tr>\n",
       "    <tr>\n",
       "      <th>3</th>\n",
       "      <td>NaN</td>\n",
       "      <td>NaN</td>\n",
       "      <td>Open</td>\n",
       "      <td>Door Sensor</td>\n",
       "      <td>2024-03-18 00:34:00</td>\n",
       "      <td>Main Entrance</td>\n",
       "    </tr>\n",
       "    <tr>\n",
       "      <th>4</th>\n",
       "      <td>Yes</td>\n",
       "      <td>NaN</td>\n",
       "      <td>NaN</td>\n",
       "      <td>Motion Sensor</td>\n",
       "      <td>2024-03-18 00:19:00</td>\n",
       "      <td>Hallway</td>\n",
       "    </tr>\n",
       "    <tr>\n",
       "      <th>...</th>\n",
       "      <td>...</td>\n",
       "      <td>...</td>\n",
       "      <td>...</td>\n",
       "      <td>...</td>\n",
       "      <td>...</td>\n",
       "      <td>...</td>\n",
       "    </tr>\n",
       "    <tr>\n",
       "      <th>95</th>\n",
       "      <td>NaN</td>\n",
       "      <td>NaN</td>\n",
       "      <td>Closed</td>\n",
       "      <td>Door Sensor</td>\n",
       "      <td>2024-03-18 00:12:00</td>\n",
       "      <td>Main Entrance</td>\n",
       "    </tr>\n",
       "    <tr>\n",
       "      <th>96</th>\n",
       "      <td>NaN</td>\n",
       "      <td>bag</td>\n",
       "      <td>NaN</td>\n",
       "      <td>Camera</td>\n",
       "      <td>2024-03-18 00:20:00</td>\n",
       "      <td>Main Entrance</td>\n",
       "    </tr>\n",
       "    <tr>\n",
       "      <th>97</th>\n",
       "      <td>NaN</td>\n",
       "      <td>NaN</td>\n",
       "      <td>Open</td>\n",
       "      <td>Door Sensor</td>\n",
       "      <td>2024-03-18 00:27:00</td>\n",
       "      <td>Room 2</td>\n",
       "    </tr>\n",
       "    <tr>\n",
       "      <th>98</th>\n",
       "      <td>NaN</td>\n",
       "      <td>NaN</td>\n",
       "      <td>Closed</td>\n",
       "      <td>Window Sensor</td>\n",
       "      <td>2024-03-18 00:28:00</td>\n",
       "      <td>Room 2</td>\n",
       "    </tr>\n",
       "    <tr>\n",
       "      <th>99</th>\n",
       "      <td>NaN</td>\n",
       "      <td>NaN</td>\n",
       "      <td>Open</td>\n",
       "      <td>Window Sensor</td>\n",
       "      <td>2024-03-18 00:45:00</td>\n",
       "      <td>Room 1</td>\n",
       "    </tr>\n",
       "  </tbody>\n",
       "</table>\n",
       "<p>100 rows × 6 columns</p>\n",
       "</div>"
      ],
      "text/plain": [
       "   Movement Detected Object Detected Open/Closed    Sensor Type  \\\n",
       "0                NaN             NaN        Open  Window Sensor   \n",
       "1                NaN             NaN      Closed  Window Sensor   \n",
       "2                NaN             NaN        Open    Door Sensor   \n",
       "3                NaN             NaN        Open    Door Sensor   \n",
       "4                Yes             NaN         NaN  Motion Sensor   \n",
       "..               ...             ...         ...            ...   \n",
       "95               NaN             NaN      Closed    Door Sensor   \n",
       "96               NaN             bag         NaN         Camera   \n",
       "97               NaN             NaN        Open    Door Sensor   \n",
       "98               NaN             NaN      Closed  Window Sensor   \n",
       "99               NaN             NaN        Open  Window Sensor   \n",
       "\n",
       "              Timestamp           Zone  \n",
       "0   2024-03-18 00:12:00          Lobby  \n",
       "1   2024-03-18 00:04:00         Room 1  \n",
       "2   2024-03-18 00:00:00          Lobby  \n",
       "3   2024-03-18 00:34:00  Main Entrance  \n",
       "4   2024-03-18 00:19:00        Hallway  \n",
       "..                  ...            ...  \n",
       "95  2024-03-18 00:12:00  Main Entrance  \n",
       "96  2024-03-18 00:20:00  Main Entrance  \n",
       "97  2024-03-18 00:27:00         Room 2  \n",
       "98  2024-03-18 00:28:00         Room 2  \n",
       "99  2024-03-18 00:45:00         Room 1  \n",
       "\n",
       "[100 rows x 6 columns]"
      ]
     },
     "execution_count": 53,
     "metadata": {},
     "output_type": "execute_result"
    }
   ],
   "source": [
    "df"
   ]
  },
  {
   "cell_type": "code",
   "execution_count": 54,
   "metadata": {},
   "outputs": [
    {
     "data": {
      "text/plain": [
       "Movement Detected    78\n",
       "Object Detected      74\n",
       "Open/Closed          48\n",
       "Sensor Type           0\n",
       "Timestamp             0\n",
       "Zone                  0\n",
       "dtype: int64"
      ]
     },
     "execution_count": 54,
     "metadata": {},
     "output_type": "execute_result"
    }
   ],
   "source": [
    "df.isnull().sum()\n"
   ]
  },
  {
   "cell_type": "code",
   "execution_count": 55,
   "metadata": {},
   "outputs": [
    {
     "name": "stderr",
     "output_type": "stream",
     "text": [
      "C:\\Users\\Shree\\AppData\\Local\\Temp\\ipykernel_12772\\2297037380.py:2: FutureWarning: A value is trying to be set on a copy of a DataFrame or Series through chained assignment using an inplace method.\n",
      "The behavior will change in pandas 3.0. This inplace method will never work because the intermediate object on which we are setting values always behaves as a copy.\n",
      "\n",
      "For example, when doing 'df[col].method(value, inplace=True)', try using 'df.method({col: value}, inplace=True)' or df[col] = df[col].method(value) instead, to perform the operation inplace on the original object.\n",
      "\n",
      "\n",
      "  df['Open/Closed'].fillna(df['Open/Closed'].mode()[0], inplace=True)\n",
      "C:\\Users\\Shree\\AppData\\Local\\Temp\\ipykernel_12772\\2297037380.py:3: FutureWarning: A value is trying to be set on a copy of a DataFrame or Series through chained assignment using an inplace method.\n",
      "The behavior will change in pandas 3.0. This inplace method will never work because the intermediate object on which we are setting values always behaves as a copy.\n",
      "\n",
      "For example, when doing 'df[col].method(value, inplace=True)', try using 'df.method({col: value}, inplace=True)' or df[col] = df[col].method(value) instead, to perform the operation inplace on the original object.\n",
      "\n",
      "\n",
      "  df['Movement Detected'].fillna(df['Movement Detected'].mode()[0], inplace=True)\n",
      "C:\\Users\\Shree\\AppData\\Local\\Temp\\ipykernel_12772\\2297037380.py:4: FutureWarning: A value is trying to be set on a copy of a DataFrame or Series through chained assignment using an inplace method.\n",
      "The behavior will change in pandas 3.0. This inplace method will never work because the intermediate object on which we are setting values always behaves as a copy.\n",
      "\n",
      "For example, when doing 'df[col].method(value, inplace=True)', try using 'df.method({col: value}, inplace=True)' or df[col] = df[col].method(value) instead, to perform the operation inplace on the original object.\n",
      "\n",
      "\n",
      "  df['Object Detected'].fillna(df['Object Detected'].mode()[0],inplace=True)\n"
     ]
    }
   ],
   "source": [
    "# handle missing values of every column\n",
    "df['Open/Closed'].fillna(df['Open/Closed'].mode()[0], inplace=True)\n",
    "df['Movement Detected'].fillna(df['Movement Detected'].mode()[0], inplace=True)\n",
    "df['Object Detected'].fillna(df['Object Detected'].mode()[0],inplace=True)\n"
   ]
  },
  {
   "cell_type": "code",
   "execution_count": 56,
   "metadata": {},
   "outputs": [
    {
     "data": {
      "text/html": [
       "<div>\n",
       "<style scoped>\n",
       "    .dataframe tbody tr th:only-of-type {\n",
       "        vertical-align: middle;\n",
       "    }\n",
       "\n",
       "    .dataframe tbody tr th {\n",
       "        vertical-align: top;\n",
       "    }\n",
       "\n",
       "    .dataframe thead th {\n",
       "        text-align: right;\n",
       "    }\n",
       "</style>\n",
       "<table border=\"1\" class=\"dataframe\">\n",
       "  <thead>\n",
       "    <tr style=\"text-align: right;\">\n",
       "      <th></th>\n",
       "      <th>Movement Detected</th>\n",
       "      <th>Object Detected</th>\n",
       "      <th>Open/Closed</th>\n",
       "      <th>Sensor Type</th>\n",
       "      <th>Timestamp</th>\n",
       "      <th>Zone</th>\n",
       "    </tr>\n",
       "  </thead>\n",
       "  <tbody>\n",
       "    <tr>\n",
       "      <th>0</th>\n",
       "      <td>Yes</td>\n",
       "      <td>Person</td>\n",
       "      <td>Open</td>\n",
       "      <td>Window Sensor</td>\n",
       "      <td>2024-03-18 00:12:00</td>\n",
       "      <td>Lobby</td>\n",
       "    </tr>\n",
       "    <tr>\n",
       "      <th>1</th>\n",
       "      <td>Yes</td>\n",
       "      <td>Person</td>\n",
       "      <td>Closed</td>\n",
       "      <td>Window Sensor</td>\n",
       "      <td>2024-03-18 00:04:00</td>\n",
       "      <td>Room 1</td>\n",
       "    </tr>\n",
       "    <tr>\n",
       "      <th>2</th>\n",
       "      <td>Yes</td>\n",
       "      <td>Person</td>\n",
       "      <td>Open</td>\n",
       "      <td>Door Sensor</td>\n",
       "      <td>2024-03-18 00:00:00</td>\n",
       "      <td>Lobby</td>\n",
       "    </tr>\n",
       "    <tr>\n",
       "      <th>3</th>\n",
       "      <td>Yes</td>\n",
       "      <td>Person</td>\n",
       "      <td>Open</td>\n",
       "      <td>Door Sensor</td>\n",
       "      <td>2024-03-18 00:34:00</td>\n",
       "      <td>Main Entrance</td>\n",
       "    </tr>\n",
       "    <tr>\n",
       "      <th>4</th>\n",
       "      <td>Yes</td>\n",
       "      <td>Person</td>\n",
       "      <td>Open</td>\n",
       "      <td>Motion Sensor</td>\n",
       "      <td>2024-03-18 00:19:00</td>\n",
       "      <td>Hallway</td>\n",
       "    </tr>\n",
       "    <tr>\n",
       "      <th>...</th>\n",
       "      <td>...</td>\n",
       "      <td>...</td>\n",
       "      <td>...</td>\n",
       "      <td>...</td>\n",
       "      <td>...</td>\n",
       "      <td>...</td>\n",
       "    </tr>\n",
       "    <tr>\n",
       "      <th>95</th>\n",
       "      <td>Yes</td>\n",
       "      <td>Person</td>\n",
       "      <td>Closed</td>\n",
       "      <td>Door Sensor</td>\n",
       "      <td>2024-03-18 00:12:00</td>\n",
       "      <td>Main Entrance</td>\n",
       "    </tr>\n",
       "    <tr>\n",
       "      <th>96</th>\n",
       "      <td>Yes</td>\n",
       "      <td>bag</td>\n",
       "      <td>Open</td>\n",
       "      <td>Camera</td>\n",
       "      <td>2024-03-18 00:20:00</td>\n",
       "      <td>Main Entrance</td>\n",
       "    </tr>\n",
       "    <tr>\n",
       "      <th>97</th>\n",
       "      <td>Yes</td>\n",
       "      <td>Person</td>\n",
       "      <td>Open</td>\n",
       "      <td>Door Sensor</td>\n",
       "      <td>2024-03-18 00:27:00</td>\n",
       "      <td>Room 2</td>\n",
       "    </tr>\n",
       "    <tr>\n",
       "      <th>98</th>\n",
       "      <td>Yes</td>\n",
       "      <td>Person</td>\n",
       "      <td>Closed</td>\n",
       "      <td>Window Sensor</td>\n",
       "      <td>2024-03-18 00:28:00</td>\n",
       "      <td>Room 2</td>\n",
       "    </tr>\n",
       "    <tr>\n",
       "      <th>99</th>\n",
       "      <td>Yes</td>\n",
       "      <td>Person</td>\n",
       "      <td>Open</td>\n",
       "      <td>Window Sensor</td>\n",
       "      <td>2024-03-18 00:45:00</td>\n",
       "      <td>Room 1</td>\n",
       "    </tr>\n",
       "  </tbody>\n",
       "</table>\n",
       "<p>100 rows × 6 columns</p>\n",
       "</div>"
      ],
      "text/plain": [
       "   Movement Detected Object Detected Open/Closed    Sensor Type  \\\n",
       "0                Yes          Person        Open  Window Sensor   \n",
       "1                Yes          Person      Closed  Window Sensor   \n",
       "2                Yes          Person        Open    Door Sensor   \n",
       "3                Yes          Person        Open    Door Sensor   \n",
       "4                Yes          Person        Open  Motion Sensor   \n",
       "..               ...             ...         ...            ...   \n",
       "95               Yes          Person      Closed    Door Sensor   \n",
       "96               Yes             bag        Open         Camera   \n",
       "97               Yes          Person        Open    Door Sensor   \n",
       "98               Yes          Person      Closed  Window Sensor   \n",
       "99               Yes          Person        Open  Window Sensor   \n",
       "\n",
       "              Timestamp           Zone  \n",
       "0   2024-03-18 00:12:00          Lobby  \n",
       "1   2024-03-18 00:04:00         Room 1  \n",
       "2   2024-03-18 00:00:00          Lobby  \n",
       "3   2024-03-18 00:34:00  Main Entrance  \n",
       "4   2024-03-18 00:19:00        Hallway  \n",
       "..                  ...            ...  \n",
       "95  2024-03-18 00:12:00  Main Entrance  \n",
       "96  2024-03-18 00:20:00  Main Entrance  \n",
       "97  2024-03-18 00:27:00         Room 2  \n",
       "98  2024-03-18 00:28:00         Room 2  \n",
       "99  2024-03-18 00:45:00         Room 1  \n",
       "\n",
       "[100 rows x 6 columns]"
      ]
     },
     "execution_count": 56,
     "metadata": {},
     "output_type": "execute_result"
    }
   ],
   "source": [
    "df"
   ]
  },
  {
   "cell_type": "code",
   "execution_count": 57,
   "metadata": {},
   "outputs": [
    {
     "data": {
      "text/html": [
       "<div>\n",
       "<style scoped>\n",
       "    .dataframe tbody tr th:only-of-type {\n",
       "        vertical-align: middle;\n",
       "    }\n",
       "\n",
       "    .dataframe tbody tr th {\n",
       "        vertical-align: top;\n",
       "    }\n",
       "\n",
       "    .dataframe thead th {\n",
       "        text-align: right;\n",
       "    }\n",
       "</style>\n",
       "<table border=\"1\" class=\"dataframe\">\n",
       "  <thead>\n",
       "    <tr style=\"text-align: right;\">\n",
       "      <th></th>\n",
       "      <th>Movement Detected</th>\n",
       "      <th>Object Detected</th>\n",
       "      <th>Open/Closed</th>\n",
       "      <th>Sensor Type</th>\n",
       "      <th>Timestamp</th>\n",
       "      <th>Zone</th>\n",
       "    </tr>\n",
       "  </thead>\n",
       "  <tbody>\n",
       "    <tr>\n",
       "      <th>count</th>\n",
       "      <td>100</td>\n",
       "      <td>100</td>\n",
       "      <td>100</td>\n",
       "      <td>100</td>\n",
       "      <td>100</td>\n",
       "      <td>100</td>\n",
       "    </tr>\n",
       "    <tr>\n",
       "      <th>unique</th>\n",
       "      <td>2</td>\n",
       "      <td>5</td>\n",
       "      <td>2</td>\n",
       "      <td>4</td>\n",
       "      <td>45</td>\n",
       "      <td>5</td>\n",
       "    </tr>\n",
       "    <tr>\n",
       "      <th>top</th>\n",
       "      <td>Yes</td>\n",
       "      <td>Person</td>\n",
       "      <td>Open</td>\n",
       "      <td>Door Sensor</td>\n",
       "      <td>2024-03-18 00:19:00</td>\n",
       "      <td>Main Entrance</td>\n",
       "    </tr>\n",
       "    <tr>\n",
       "      <th>freq</th>\n",
       "      <td>92</td>\n",
       "      <td>81</td>\n",
       "      <td>85</td>\n",
       "      <td>29</td>\n",
       "      <td>6</td>\n",
       "      <td>26</td>\n",
       "    </tr>\n",
       "  </tbody>\n",
       "</table>\n",
       "</div>"
      ],
      "text/plain": [
       "       Movement Detected Object Detected Open/Closed  Sensor Type  \\\n",
       "count                100             100         100          100   \n",
       "unique                 2               5           2            4   \n",
       "top                  Yes          Person        Open  Door Sensor   \n",
       "freq                  92              81          85           29   \n",
       "\n",
       "                  Timestamp           Zone  \n",
       "count                   100            100  \n",
       "unique                   45              5  \n",
       "top     2024-03-18 00:19:00  Main Entrance  \n",
       "freq                      6             26  "
      ]
     },
     "execution_count": 57,
     "metadata": {},
     "output_type": "execute_result"
    }
   ],
   "source": [
    "# perform EDA\n",
    "df.describe()\n",
    "\n"
   ]
  },
  {
   "cell_type": "code",
   "execution_count": 61,
   "metadata": {},
   "outputs": [
    {
     "data": {
      "text/plain": [
       "dtype('<M8[ns]')"
      ]
     },
     "execution_count": 61,
     "metadata": {},
     "output_type": "execute_result"
    }
   ],
   "source": [
    "\n",
    "# time series analysis\n",
    "df['Timestamp'] = pd.to_datetime(df['Timestamp'])\n",
    "df['Timestamp'].dtype\n"
   ]
  },
  {
   "cell_type": "code",
   "execution_count": 62,
   "metadata": {},
   "outputs": [
    {
     "data": {
      "text/plain": [
       "(Timestamp('2024-03-18 00:00:00'), Timestamp('2024-03-18 00:59:00'))"
      ]
     },
     "execution_count": 62,
     "metadata": {},
     "output_type": "execute_result"
    }
   ],
   "source": [
    "df['Timestamp'].min(), df['Timestamp'].max()\n",
    "\n"
   ]
  },
  {
   "cell_type": "code",
   "execution_count": 63,
   "metadata": {},
   "outputs": [
    {
     "name": "stderr",
     "output_type": "stream",
     "text": [
      "C:\\Users\\Shree\\AppData\\Local\\Temp\\ipykernel_12772\\1831976874.py:14: FutureWarning: 'H' is deprecated and will be removed in a future version, please use 'h' instead.\n",
      "  hourly_events = df.resample('H', on='Timestamp')['Movement Detected'].count()\n"
     ]
    },
    {
     "data": {
      "image/png": "[encoded data removed]",
      "text/plain": [
       "<Figure size 640x480 with 1 Axes>"
      ]
     },
     "metadata": {},
     "output_type": "display_data"
    }
   ],
   "source": [
    "import pandas as pd\n",
    "import matplotlib.pyplot as plt\n",
    "\n",
    "# Convert timestamp to datetime format\n",
    "df['Timestamp'] = pd.to_datetime(df['Timestamp'])\n",
    "\n",
    "# Hourly sensor events\n",
    "hourly_events = df.resample('H', on='Timestamp')['Movement Detected'].count()\n",
    "hourly_events.plot(kind='bar', title='Sensor Events per Hour')\n",
    "plt.xlabel('Hour of the Day')\n",
    "plt.ylabel('Number of Events')\n",
    "plt.show()\n"
   ]
  },
  {
   "cell_type": "code",
   "execution_count": 65,
   "metadata": {},
   "outputs": [
    {
     "name": "stderr",
     "output_type": "stream",
     "text": [
      "C:\\Users\\Shree\\AppData\\Local\\Temp\\ipykernel_12772\\4021555949.py:3: FutureWarning: 'H' is deprecated and will be removed in a future version, please use 'h' instead.\n",
      "  lobby_events = lobby_data.resample('H', on='Timestamp')['Movement Detected'].count()\n"
     ]
    },
    {
     "data": {
      "image/png": "[encoded data removed]",
      "text/plain": [
       "<Figure size 640x480 with 1 Axes>"
      ]
     },
     "metadata": {},
     "output_type": "display_data"
    }
   ],
   "source": [
    "# Analyze specific zone (e.g., Lobby)\n",
    "lobby_data = df[df['Zone'] == 'Lobby']\n",
    "lobby_events = lobby_data.resample('H', on='Timestamp')['Movement Detected'].count()\n",
    "lobby_events.plot(kind='bar', title='Sensor Events per Hour (Lobby)')\n",
    "plt.xlabel('Hour of the Day')\n",
    "plt.ylabel('Number of Events')\n",
    "plt.show()\n",
    "\n",
    "# Further Analysis (not shown in code)\n",
    "# * Analyze other sensor types (door/window open/closed)\n",
    "# * Identify correlations between sensor events and zones\n",
    "# * Explore weekday vs. weekend activity patterns\n",
    "\n"
   ]
  },
  {
   "cell_type": "code",
   "execution_count": 66,
   "metadata": {},
   "outputs": [
    {
     "name": "stdout",
     "output_type": "stream",
     "text": [
      "<class 'pandas.core.frame.DataFrame'>\n",
      "RangeIndex: 100 entries, 0 to 99\n",
      "Data columns (total 6 columns):\n",
      " #   Column             Non-Null Count  Dtype         \n",
      "---  ------             --------------  -----         \n",
      " 0   Movement Detected  100 non-null    object        \n",
      " 1   Object Detected    100 non-null    object        \n",
      " 2   Open/Closed        100 non-null    object        \n",
      " 3   Sensor Type        100 non-null    object        \n",
      " 4   Timestamp          100 non-null    datetime64[ns]\n",
      " 5   Zone               100 non-null    object        \n",
      "dtypes: datetime64[ns](1), object(5)\n",
      "memory usage: 4.8+ KB\n",
      "None\n",
      "                           Timestamp\n",
      "count                            100\n",
      "mean   2024-03-18 00:26:55.800000256\n",
      "min              2024-03-18 00:00:00\n",
      "25%              2024-03-18 00:14:00\n",
      "50%              2024-03-18 00:24:00\n",
      "75%              2024-03-18 00:38:30\n",
      "max              2024-03-18 00:59:00\n",
      "['Lobby' 'Room 1' 'Main Entrance' 'Hallway' 'Room 2']\n",
      "['Window Sensor' 'Door Sensor' 'Motion Sensor' 'Camera']\n",
      "['Open' 'Closed']\n",
      "Movement Detected Counts:\n",
      "Movement Detected\n",
      "Yes    92\n",
      "No      8\n",
      "Name: count, dtype: int64\n",
      "Movement Detected by Zone:\n",
      "Zone\n",
      "Main Entrance    26\n",
      "Hallway          23\n",
      "Lobby            20\n",
      "Room 1           18\n",
      "Room 2           13\n",
      "Name: Movement Detected, dtype: int64\n"
     ]
    },
    {
     "name": "stderr",
     "output_type": "stream",
     "text": [
      "C:\\Users\\Shree\\AppData\\Local\\Temp\\ipykernel_12772\\2792523451.py:35: FutureWarning: 'H' is deprecated and will be removed in a future version, please use 'h' instead.\n",
      "  hourly_events = df.resample('H', on='Timestamp')['Movement Detected'].count()\n"
     ]
    },
    {
     "data": {
      "image/png": "[encoded data removed]",
      "text/plain": [
       "<Figure size 640x480 with 1 Axes>"
      ]
     },
     "metadata": {},
     "output_type": "display_data"
    },
    {
     "name": "stderr",
     "output_type": "stream",
     "text": [
      "e:\\Model-Misfit\\new-venv\\Lib\\site-packages\\pandas\\plotting\\_matplotlib\\core.py:1561: UserWarning: Attempting to set identical low and high xlims makes transformation singular; automatically expanding.\n",
      "  ax.set_xlim(left, right)\n"
     ]
    },
    {
     "data": {
      "image/png": "[encoded data removed]",
      "text/plain": [
       "<Figure size 640x480 with 1 Axes>"
      ]
     },
     "metadata": {},
     "output_type": "display_data"
    },
    {
     "name": "stderr",
     "output_type": "stream",
     "text": [
      "C:\\Users\\Shree\\AppData\\Local\\Temp\\ipykernel_12772\\2792523451.py:50: FutureWarning: 'H' is deprecated and will be removed in a future version, please use 'h' instead.\n",
      "  lobby_events = lobby_data.resample('H', on='Timestamp')['Movement Detected'].count()\n"
     ]
    },
    {
     "data": {
      "image/png": "[encoded data removed]",
      "text/plain": [
       "<Figure size 640x480 with 1 Axes>"
      ]
     },
     "metadata": {},
     "output_type": "display_data"
    }
   ],
   "source": [
    "import pandas as pd\n",
    "import matplotlib.pyplot as plt\n",
    "\n",
    "\n",
    "\n",
    "# Convert timestamp to datetime format\n",
    "df['Timestamp'] = pd.to_datetime(df['Timestamp'])\n",
    "\n",
    "# Exploratory Data Analysis (EDA)\n",
    "\n",
    "# Print basic information about the data\n",
    "print(df.info())\n",
    "\n",
    "# Describe numerical columns (if any)\n",
    "print(df.describe())\n",
    "\n",
    "# Get unique values for categorical columns\n",
    "print(df['Zone'].unique())\n",
    "print(df['Sensor Type'].unique())\n",
    "print(df['Open/Closed'].unique())\n",
    "\n",
    "# Analyze distribution of Movement Detected (Yes/No)\n",
    "movement_counts = df['Movement Detected'].value_counts().sort_values(ascending=False)\n",
    "print(\"Movement Detected Counts:\")\n",
    "print(movement_counts)\n",
    "\n",
    "# Analyze sensor activity by zone\n",
    "zone_counts = df.groupby('Zone')['Movement Detected'].count().sort_values(ascending=False)\n",
    "print(\"Movement Detected by Zone:\")\n",
    "print(zone_counts)\n",
    "\n",
    "# Time Series Analysis\n",
    "\n",
    "# Hourly sensor events\n",
    "hourly_events = df.resample('H', on='Timestamp')['Movement Detected'].count()\n",
    "hourly_events.plot(kind='bar', title='Sensor Events per Hour')\n",
    "plt.xlabel('Hour of the Day')\n",
    "plt.ylabel('Number of Events')\n",
    "plt.show()\n",
    "\n",
    "# Daily sensor events\n",
    "daily_events = df.resample('D', on='Timestamp')['Movement Detected'].count()\n",
    "daily_events.plot(kind='line', title='Sensor Events per Day')\n",
    "plt.xlabel('Date')\n",
    "plt.ylabel('Number of Events')\n",
    "plt.show()\n",
    "\n",
    "# Analyze specific zone (e.g., Lobby)\n",
    "lobby_data = df[df['Zone'] == 'Lobby']\n",
    "lobby_events = lobby_data.resample('H', on='Timestamp')['Movement Detected'].count()\n",
    "lobby_events.plot(kind='bar', title='Sensor Events per Hour (Lobby)')\n",
    "plt.xlabel('Hour of the Day')\n",
    "plt.ylabel('Number of Events')\n",
    "plt.show()\n",
    "\n",
    "# Further Analysis (not shown in code)\n",
    "# * Analyze other sensor types (door/window open/closed)\n",
    "# * Identify correlations between sensor events and zones\n",
    "# * Explore weekday vs. weekend activity patterns\n",
    "# * Visualize data using heatmaps or histograms\n",
    "\n"
   ]
  },
  {
   "cell_type": "code",
   "execution_count": null,
   "metadata": {},
   "outputs": [],
   "source": []
  }
 ],
 "metadata": {
  "kernelspec": {
   "display_name": "new-venv",
   "language": "python",
   "name": "python3"
  },
  "language_info": {
   "codemirror_mode": {
    "name": "ipython",
    "version": 3
   },
   "file_extension": ".py",
   "mimetype": "text/x-python",
   "name": "python",
   "nbconvert_exporter": "python",
   "pygments_lexer": "ipython3",
   "version": "3.11.8"
  }
 },
 "nbformat": 4,
 "nbformat_minor": 2
}
